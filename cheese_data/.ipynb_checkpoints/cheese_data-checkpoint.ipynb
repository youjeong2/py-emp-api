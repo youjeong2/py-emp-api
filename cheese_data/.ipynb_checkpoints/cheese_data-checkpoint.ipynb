{
 "cells": [
  {
   "cell_type": "code",
   "execution_count": 1,
   "metadata": {},
   "outputs": [
    {
     "name": "stdout",
     "output_type": "stream",
     "text": [
      "Python 2.7.16\r\n"
     ]
    }
   ],
   "source": [
    "!python --version"
   ]
  },
  {
   "cell_type": "code",
   "execution_count": 7,
   "metadata": {},
   "outputs": [
    {
     "name": "stdout",
     "output_type": "stream",
     "text": [
      "Collecting scikit-learn\n",
      "  Downloading scikit_learn-0.23.2-cp38-cp38-macosx_10_9_x86_64.whl (7.2 MB)\n",
      "\u001b[K     |████████████████████████████████| 7.2 MB 5.3 MB/s eta 0:00:01\n",
      "\u001b[?25hCollecting scipy>=0.19.1\n",
      "  Downloading scipy-1.5.3-cp38-cp38-macosx_10_9_x86_64.whl (29.0 MB)\n",
      "\u001b[K     |████████████████████████████████| 29.0 MB 10.5 MB/s eta 0:00:01\n",
      "\u001b[?25hCollecting numpy>=1.13.3\n",
      "  Downloading numpy-1.19.3-cp38-cp38-macosx_10_9_x86_64.whl (15.9 MB)\n",
      "\u001b[K     |████████████████████████████████| 15.9 MB 1.7 MB/s eta 0:00:01\n",
      "\u001b[?25hCollecting joblib>=0.11\n",
      "  Using cached joblib-0.17.0-py3-none-any.whl (301 kB)\n",
      "Collecting threadpoolctl>=2.0.0\n",
      "  Using cached threadpoolctl-2.1.0-py3-none-any.whl (12 kB)\n",
      "Installing collected packages: numpy, scipy, joblib, threadpoolctl, scikit-learn\n",
      "Successfully installed joblib-0.17.0 numpy-1.19.3 scikit-learn-0.23.2 scipy-1.5.3 threadpoolctl-2.1.0\n",
      "Note: you may need to restart the kernel to use updated packages.\n"
     ]
    }
   ],
   "source": [
    "pip install scikit-learn"
   ]
  },
  {
   "cell_type": "code",
   "execution_count": 8,
   "metadata": {},
   "outputs": [
    {
     "name": "stdout",
     "output_type": "stream",
     "text": [
      "Requirement already satisfied: numpy in /Library/Frameworks/Python.framework/Versions/3.8/lib/python3.8/site-packages (1.19.3)\n",
      "Note: you may need to restart the kernel to use updated packages.\n"
     ]
    }
   ],
   "source": [
    "pip install numpy"
   ]
  },
  {
   "cell_type": "code",
   "execution_count": 9,
   "metadata": {},
   "outputs": [
    {
     "name": "stdout",
     "output_type": "stream",
     "text": [
      "Requirement already satisfied: scipy in /Library/Frameworks/Python.framework/Versions/3.8/lib/python3.8/site-packages (1.5.3)\n",
      "Requirement already satisfied: numpy>=1.14.5 in /Library/Frameworks/Python.framework/Versions/3.8/lib/python3.8/site-packages (from scipy) (1.19.3)\n",
      "Note: you may need to restart the kernel to use updated packages.\n"
     ]
    }
   ],
   "source": [
    "pip install scipy"
   ]
  },
  {
   "cell_type": "code",
   "execution_count": 10,
   "metadata": {},
   "outputs": [
    {
     "name": "stdout",
     "output_type": "stream",
     "text": [
      "Collecting matplotlib\n",
      "  Downloading matplotlib-3.3.2-cp38-cp38-macosx_10_9_x86_64.whl (8.5 MB)\n",
      "\u001b[K     |████████████████████████████████| 8.5 MB 9.1 MB/s eta 0:00:01\n",
      "\u001b[?25hRequirement already satisfied: pyparsing!=2.0.4,!=2.1.2,!=2.1.6,>=2.0.3 in /Library/Frameworks/Python.framework/Versions/3.8/lib/python3.8/site-packages (from matplotlib) (2.4.7)\n",
      "Requirement already satisfied: python-dateutil>=2.1 in /Library/Frameworks/Python.framework/Versions/3.8/lib/python3.8/site-packages (from matplotlib) (2.8.1)\n",
      "Collecting certifi>=2020.06.20\n",
      "  Using cached certifi-2020.6.20-py2.py3-none-any.whl (156 kB)\n",
      "Collecting pillow>=6.2.0\n",
      "  Downloading Pillow-8.0.1-cp38-cp38-macosx_10_10_x86_64.whl (2.2 MB)\n",
      "\u001b[K     |████████████████████████████████| 2.2 MB 16.0 MB/s eta 0:00:01\n",
      "\u001b[?25hCollecting cycler>=0.10\n",
      "  Using cached cycler-0.10.0-py2.py3-none-any.whl (6.5 kB)\n",
      "Collecting kiwisolver>=1.0.1\n",
      "  Downloading kiwisolver-1.3.0-cp38-cp38-macosx_10_9_x86_64.whl (61 kB)\n",
      "\u001b[K     |████████████████████████████████| 61 kB 456 kB/s  eta 0:00:01\n",
      "\u001b[?25hRequirement already satisfied: numpy>=1.15 in /Library/Frameworks/Python.framework/Versions/3.8/lib/python3.8/site-packages (from matplotlib) (1.19.3)\n",
      "Requirement already satisfied: six>=1.5 in /Library/Frameworks/Python.framework/Versions/3.8/lib/python3.8/site-packages (from python-dateutil>=2.1->matplotlib) (1.15.0)\n",
      "Installing collected packages: certifi, pillow, cycler, kiwisolver, matplotlib\n",
      "Successfully installed certifi-2020.6.20 cycler-0.10.0 kiwisolver-1.3.0 matplotlib-3.3.2 pillow-8.0.1\n",
      "Note: you may need to restart the kernel to use updated packages.\n"
     ]
    }
   ],
   "source": [
    "pip install matplotlib"
   ]
  },
  {
   "cell_type": "code",
   "execution_count": 11,
   "metadata": {},
   "outputs": [
    {
     "name": "stdout",
     "output_type": "stream",
     "text": [
      "Collecting pandas\n",
      "  Downloading pandas-1.1.3-cp38-cp38-macosx_10_9_x86_64.whl (10.1 MB)\n",
      "\u001b[K     |████████████████████████████████| 10.1 MB 866 kB/s eta 0:00:01\n",
      "\u001b[?25hRequirement already satisfied: python-dateutil>=2.7.3 in /Library/Frameworks/Python.framework/Versions/3.8/lib/python3.8/site-packages (from pandas) (2.8.1)\n",
      "Requirement already satisfied: numpy>=1.15.4 in /Library/Frameworks/Python.framework/Versions/3.8/lib/python3.8/site-packages (from pandas) (1.19.3)\n",
      "Collecting pytz>=2017.2\n",
      "  Using cached pytz-2020.1-py2.py3-none-any.whl (510 kB)\n",
      "Requirement already satisfied: six>=1.5 in /Library/Frameworks/Python.framework/Versions/3.8/lib/python3.8/site-packages (from python-dateutil>=2.7.3->pandas) (1.15.0)\n",
      "Installing collected packages: pytz, pandas\n",
      "Successfully installed pandas-1.1.3 pytz-2020.1\n",
      "Note: you may need to restart the kernel to use updated packages.\n"
     ]
    }
   ],
   "source": [
    "pip install pandas"
   ]
  },
  {
   "cell_type": "code",
   "execution_count": 22,
   "metadata": {},
   "outputs": [
    {
     "name": "stdout",
     "output_type": "stream",
     "text": [
      "name,country,matching,texture,types,subcategory,,price,content,img\r\n",
      "[상하치즈] 유기농 아이치즈 3종 (10매입),한국,어린이용 치즈,기타,자연치즈,어린이,슬라이스치즈,\"3,399원\",탄탄한 영양학적 설계로 이루어진 우리 아이의 건강 테이블치즈,https://img-cf.kurly.com/shop/data/goods/1484823932807l0.jpg\r\n",
      "[상하] 더블업 체다 슬라이스,한국,샌드위치,기타,자연치즈,체다,,\"5,500원\",한층 더 진하고 풍성한 체다치즈가 필요할 땐,https://img-cf.kurly.com/shop/data/goods/1532682851253l0.jpg\r\n",
      "[상하치즈] Mini 스낵 치즈 3종,한국,\"샐러드,와인,맥주\",기타,자연치즈,모짜렐라,,\"2,000원\",한 입으로 느끼는 치즈의 맛,https://img-cf.kurly.com/shop/data/goods/1530172980575l0.jpg\r\n",
      "[상하치즈] Mini 스낵 치즈 3종,한국,\"빵, 과일\",기타,자연치즈,크림치즈,,\"2,000원\",한 입으로 느끼는 치즈의 맛,https://img-cf.kurly.com/shop/data/goods/1530172980575l0.jpg\r\n",
      "[상하치즈] Mini 스낵 치즈 3종,한국,\"빵, 크래커, 파니니\",기타 ,자연치즈,고다,,\"2,000원\",한 입으로 느끼는 치즈의 맛,https://img-cf.kurly.com/shop/data/goods/1530172980575l0.jpg\r\n",
      "[상하] 더블업 모짜렐라 슬라이스,한국,식빵,기타,자연치즈,모짜렐라,,\"5,980원\",두툼하고 쫄깃해서 더욱 맛있는,https://img-cf.kurly.com/shop/data/goods/155419355045l0.jpg\r\n",
      "[프란시아] 모짜렐라 카우,이탈리아,\"토마토,바질,샐러드\",후레쉬치즈,자연치즈,모짜렐라,,\"3,870원\",신선하게 피어난 우유 그대로의 맛,https://img-cf.kurly.com/shop/data/goods/1544576315159l0.jpg\r\n",
      "[카스텔로] 덴마크 브리 치즈,덴마크,\"빵, 꿀, 견과류, 와인\",소프트치즈,자연치즈,브리,,\"4,165원\",부드럽게 녹아드는 숙성치즈의 매력,https://img-cf.kurly.com/shop/data/goods/1566382934703l0.jpg\r\n",
      "[상하치즈] 샐러드용 슈레드 치즈,한국,\"샐러드,파스타\",기타,자연치즈,체다,,\"5,990원\",뿌리면 완성되는 고품격 치즈 요리,https://img-cf.kurly.com/shop/data/goods/1510304040181l0.jpg\r\n"
     ]
    }
   ],
   "source": [
    "!head ./data/cheese_list.csv"
   ]
  },
  {
   "cell_type": "code",
   "execution_count": 26,
   "metadata": {},
   "outputs": [],
   "source": [
    "import pandas as pd\n",
    "cheese_list = pd.read_csv('cheese_list.csv', sep =';')"
   ]
  },
  {
   "cell_type": "code",
   "execution_count": 27,
   "metadata": {},
   "outputs": [
    {
     "data": {
      "text/html": [
       "<div>\n",
       "<style scoped>\n",
       "    .dataframe tbody tr th:only-of-type {\n",
       "        vertical-align: middle;\n",
       "    }\n",
       "\n",
       "    .dataframe tbody tr th {\n",
       "        vertical-align: top;\n",
       "    }\n",
       "\n",
       "    .dataframe thead th {\n",
       "        text-align: right;\n",
       "    }\n",
       "</style>\n",
       "<table border=\"1\" class=\"dataframe\">\n",
       "  <thead>\n",
       "    <tr style=\"text-align: right;\">\n",
       "      <th></th>\n",
       "      <th>name,country,matching,texture,types,subcategory,,price,content,img</th>\n",
       "    </tr>\n",
       "  </thead>\n",
       "  <tbody>\n",
       "    <tr>\n",
       "      <th>0</th>\n",
       "      <td>[상하치즈] 유기농 아이치즈 3종 (10매입),한국,어린이용 치즈,기타,자연치즈,어...</td>\n",
       "    </tr>\n",
       "    <tr>\n",
       "      <th>1</th>\n",
       "      <td>[상하] 더블업 체다 슬라이스,한국,샌드위치,기타,자연치즈,체다,,\"5,500원\",...</td>\n",
       "    </tr>\n",
       "    <tr>\n",
       "      <th>2</th>\n",
       "      <td>[상하치즈] Mini 스낵 치즈 3종,한국,\"샐러드,와인,맥주\",기타,자연치즈,모짜...</td>\n",
       "    </tr>\n",
       "    <tr>\n",
       "      <th>3</th>\n",
       "      <td>[상하치즈] Mini 스낵 치즈 3종,한국,\"빵, 과일\",기타,자연치즈,크림치즈,,...</td>\n",
       "    </tr>\n",
       "    <tr>\n",
       "      <th>4</th>\n",
       "      <td>[상하치즈] Mini 스낵 치즈 3종,한국,\"빵, 크래커, 파니니\",기타 ,자연치즈...</td>\n",
       "    </tr>\n",
       "    <tr>\n",
       "      <th>...</th>\n",
       "      <td>...</td>\n",
       "    </tr>\n",
       "    <tr>\n",
       "      <th>181</th>\n",
       "      <td>[퀘소로시난테] 만체고 블랙 트러플 치즈,스페인,\"타파스, 핑거푸드, 샐러드, 샤퀴...</td>\n",
       "    </tr>\n",
       "    <tr>\n",
       "      <th>182</th>\n",
       "      <td>[카사로] 모짜렐라 로그,미국,\"카프레제 샐러드, 샌드위치, 샐러드, 마르게리타 피...</td>\n",
       "    </tr>\n",
       "    <tr>\n",
       "      <th>183</th>\n",
       "      <td>[크래프트하인즈] 슈레드 멕시칸 포치즈,미국,\"파스타, 샐러드, 샌드위치, 브리또,...</td>\n",
       "    </tr>\n",
       "    <tr>\n",
       "      <th>184</th>\n",
       "      <td>[크래프트하인즈] 슈레드 트리플 체다치즈,미국,\"파스타, 라면, 떡볶이, 토스트, ...</td>\n",
       "    </tr>\n",
       "    <tr>\n",
       "      <th>185</th>\n",
       "      <td>[아그리폼] 프로볼로네 돌체 포션치즈,이탈리아,\"퐁듀, 파스타, 파니니, 빵, 와인...</td>\n",
       "    </tr>\n",
       "  </tbody>\n",
       "</table>\n",
       "<p>186 rows × 1 columns</p>\n",
       "</div>"
      ],
      "text/plain": [
       "    name,country,matching,texture,types,subcategory,,price,content,img\n",
       "0    [상하치즈] 유기농 아이치즈 3종 (10매입),한국,어린이용 치즈,기타,자연치즈,어...                \n",
       "1    [상하] 더블업 체다 슬라이스,한국,샌드위치,기타,자연치즈,체다,,\"5,500원\",...                \n",
       "2    [상하치즈] Mini 스낵 치즈 3종,한국,\"샐러드,와인,맥주\",기타,자연치즈,모짜...                \n",
       "3    [상하치즈] Mini 스낵 치즈 3종,한국,\"빵, 과일\",기타,자연치즈,크림치즈,,...                \n",
       "4    [상하치즈] Mini 스낵 치즈 3종,한국,\"빵, 크래커, 파니니\",기타 ,자연치즈...                \n",
       "..                                                 ...                \n",
       "181  [퀘소로시난테] 만체고 블랙 트러플 치즈,스페인,\"타파스, 핑거푸드, 샐러드, 샤퀴...                \n",
       "182  [카사로] 모짜렐라 로그,미국,\"카프레제 샐러드, 샌드위치, 샐러드, 마르게리타 피...                \n",
       "183  [크래프트하인즈] 슈레드 멕시칸 포치즈,미국,\"파스타, 샐러드, 샌드위치, 브리또,...                \n",
       "184  [크래프트하인즈] 슈레드 트리플 체다치즈,미국,\"파스타, 라면, 떡볶이, 토스트, ...                \n",
       "185  [아그리폼] 프로볼로네 돌체 포션치즈,이탈리아,\"퐁듀, 파스타, 파니니, 빵, 와인...                \n",
       "\n",
       "[186 rows x 1 columns]"
      ]
     },
     "execution_count": 27,
     "metadata": {},
     "output_type": "execute_result"
    }
   ],
   "source": [
    "cheese_list"
   ]
  },
  {
   "cell_type": "code",
   "execution_count": 19,
   "metadata": {},
   "outputs": [
    {
     "data": {
      "text/html": [
       "<div>\n",
       "<style scoped>\n",
       "    .dataframe tbody tr th:only-of-type {\n",
       "        vertical-align: middle;\n",
       "    }\n",
       "\n",
       "    .dataframe tbody tr th {\n",
       "        vertical-align: top;\n",
       "    }\n",
       "\n",
       "    .dataframe thead th {\n",
       "        text-align: right;\n",
       "    }\n",
       "</style>\n",
       "<table border=\"1\" class=\"dataframe\">\n",
       "  <thead>\n",
       "    <tr style=\"text-align: right;\">\n",
       "      <th></th>\n",
       "      <th>,name,country,matching,texture,types,category,,price,content,img</th>\n",
       "    </tr>\n",
       "  </thead>\n",
       "  <tbody>\n",
       "    <tr>\n",
       "      <th>0</th>\n",
       "      <td>,[상하치즈] 유기농 아이치즈 3종 (10매입),한국,어린이용 치즈,기타,자연치즈,...</td>\n",
       "    </tr>\n",
       "    <tr>\n",
       "      <th>1</th>\n",
       "      <td>,[상하] 더블업 체다 슬라이스,한국,샌드위치,기타,자연치즈,체다,,\"5,500원\"...</td>\n",
       "    </tr>\n",
       "    <tr>\n",
       "      <th>2</th>\n",
       "      <td>,[상하치즈] Mini 스낵 치즈 3종,한국,\"샐러드,와인,맥주\",기타,자연치즈,모...</td>\n",
       "    </tr>\n",
       "    <tr>\n",
       "      <th>3</th>\n",
       "      <td>,[상하치즈] Mini 스낵 치즈 3종,한국,\"빵, 과일\",기타,자연치즈,크림치즈,...</td>\n",
       "    </tr>\n",
       "    <tr>\n",
       "      <th>4</th>\n",
       "      <td>,[상하치즈] Mini 스낵 치즈 3종,한국,\"빵, 크래커, 파니니\",기타,자연치즈...</td>\n",
       "    </tr>\n",
       "    <tr>\n",
       "      <th>5</th>\n",
       "      <td>,[상하] 더블업 모짜렐라 슬라이스,한국,식빵,기타,자연치즈,모짜렐라,,\"5,980...</td>\n",
       "    </tr>\n",
       "    <tr>\n",
       "      <th>6</th>\n",
       "      <td>,[프란시아] 모짜렐라 카우,이탈리아,\"토마토,바질,샐러드\",후레쉬치즈,자연치즈,모...</td>\n",
       "    </tr>\n",
       "    <tr>\n",
       "      <th>7</th>\n",
       "      <td>,[카스텔로] 덴마크 브리 치즈,덴마크,\"빵, 꿀, 견과류, 와인\",소프트치즈,자연...</td>\n",
       "    </tr>\n",
       "    <tr>\n",
       "      <th>8</th>\n",
       "      <td>,[상하치즈] 샐러드용 슈레드 치즈,한국,\"샐러드,파스타\",기타,자연치즈,체다,,\"...</td>\n",
       "    </tr>\n",
       "    <tr>\n",
       "      <th>9</th>\n",
       "      <td>,[상하치즈] 샐러드용 슈레드 치즈,한국,\"샐러드,파스타\",기타,자연치즈,모짜렐라,...</td>\n",
       "    </tr>\n",
       "  </tbody>\n",
       "</table>\n",
       "</div>"
      ],
      "text/plain": [
       "  ,name,country,matching,texture,types,category,,price,content,img\n",
       "0  ,[상하치즈] 유기농 아이치즈 3종 (10매입),한국,어린이용 치즈,기타,자연치즈,...              \n",
       "1  ,[상하] 더블업 체다 슬라이스,한국,샌드위치,기타,자연치즈,체다,,\"5,500원\"...              \n",
       "2  ,[상하치즈] Mini 스낵 치즈 3종,한국,\"샐러드,와인,맥주\",기타,자연치즈,모...              \n",
       "3  ,[상하치즈] Mini 스낵 치즈 3종,한국,\"빵, 과일\",기타,자연치즈,크림치즈,...              \n",
       "4  ,[상하치즈] Mini 스낵 치즈 3종,한국,\"빵, 크래커, 파니니\",기타,자연치즈...              \n",
       "5  ,[상하] 더블업 모짜렐라 슬라이스,한국,식빵,기타,자연치즈,모짜렐라,,\"5,980...              \n",
       "6  ,[프란시아] 모짜렐라 카우,이탈리아,\"토마토,바질,샐러드\",후레쉬치즈,자연치즈,모...              \n",
       "7  ,[카스텔로] 덴마크 브리 치즈,덴마크,\"빵, 꿀, 견과류, 와인\",소프트치즈,자연...              \n",
       "8  ,[상하치즈] 샐러드용 슈레드 치즈,한국,\"샐러드,파스타\",기타,자연치즈,체다,,\"...              \n",
       "9  ,[상하치즈] 샐러드용 슈레드 치즈,한국,\"샐러드,파스타\",기타,자연치즈,모짜렐라,...              "
      ]
     },
     "execution_count": 19,
     "metadata": {},
     "output_type": "execute_result"
    }
   ],
   "source": [
    "cheese_data.head(10)"
   ]
  },
  {
   "cell_type": "code",
   "execution_count": 28,
   "metadata": {},
   "outputs": [
    {
     "data": {
      "text/plain": [
       "(186, 1)"
      ]
     },
     "execution_count": 28,
     "metadata": {},
     "output_type": "execute_result"
    }
   ],
   "source": [
    "cheese_data.shape"
   ]
  },
  {
   "cell_type": "code",
   "execution_count": 2,
   "metadata": {},
   "outputs": [
    {
     "ename": "NameError",
     "evalue": "name 'CSV' is not defined",
     "output_type": "error",
     "traceback": [
      "\u001b[0;31m---------------------------------------------------------------------------\u001b[0m",
      "\u001b[0;31mNameError\u001b[0m                                 Traceback (most recent call last)",
      "\u001b[0;32m<ipython-input-2-18182e610652>\u001b[0m in \u001b[0;36m<module>\u001b[0;34m\u001b[0m\n\u001b[1;32m      2\u001b[0m \u001b[0;34m\u001b[0m\u001b[0m\n\u001b[1;32m      3\u001b[0m \u001b[0mf\u001b[0m \u001b[0;34m=\u001b[0m \u001b[0mopen\u001b[0m\u001b[0;34m(\u001b[0m\u001b[0;34m'cheese_list.csv'\u001b[0m\u001b[0;34m,\u001b[0m \u001b[0mencoding\u001b[0m\u001b[0;34m=\u001b[0m\u001b[0;34m'UTF-8'\u001b[0m\u001b[0;34m)\u001b[0m\u001b[0;34m\u001b[0m\u001b[0;34m\u001b[0m\u001b[0m\n\u001b[0;32m----> 4\u001b[0;31m \u001b[0mrdr\u001b[0m \u001b[0;34m=\u001b[0m \u001b[0mCSV\u001b[0m\u001b[0;34m.\u001b[0m\u001b[0mreader\u001b[0m\u001b[0;34m(\u001b[0m\u001b[0mf\u001b[0m\u001b[0;34m)\u001b[0m\u001b[0;34m\u001b[0m\u001b[0;34m\u001b[0m\u001b[0m\n\u001b[0m\u001b[1;32m      5\u001b[0m \u001b[0;32mfor\u001b[0m \u001b[0mcol\u001b[0m \u001b[0;32min\u001b[0m \u001b[0mrdr\u001b[0m\u001b[0;34m:\u001b[0m\u001b[0;34m\u001b[0m\u001b[0;34m\u001b[0m\u001b[0m\n\u001b[1;32m      6\u001b[0m     \u001b[0mprint\u001b[0m\u001b[0;34m(\u001b[0m\u001b[0mcol\u001b[0m\u001b[0;34m)\u001b[0m\u001b[0;34m\u001b[0m\u001b[0;34m\u001b[0m\u001b[0m\n",
      "\u001b[0;31mNameError\u001b[0m: name 'CSV' is not defined"
     ]
    }
   ],
   "source": [
    "import csv\n",
    "f = open('cheese_list.csv', encoding='UTF-8')\n",
    "rdr = CSV.reader(f)\n",
    "f.close()    "
   ]
  },
  {
   "cell_type": "code",
   "execution_count": null,
   "metadata": {},
   "outputs": [],
   "source": []
  }
 ],
 "metadata": {
  "kernelspec": {
   "display_name": "Python 3",
   "language": "python",
   "name": "python3"
  },
  "language_info": {
   "codemirror_mode": {
    "name": "ipython",
    "version": 3
   },
   "file_extension": ".py",
   "mimetype": "text/x-python",
   "name": "python",
   "nbconvert_exporter": "python",
   "pygments_lexer": "ipython3",
   "version": "3.8.6rc1"
  }
 },
 "nbformat": 4,
 "nbformat_minor": 4
}
